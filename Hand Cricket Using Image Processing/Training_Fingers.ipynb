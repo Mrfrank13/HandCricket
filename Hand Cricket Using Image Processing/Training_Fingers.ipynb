{
 "cells": [
  {
   "cell_type": "code",
   "execution_count": 2,
   "metadata": {},
   "outputs": [],
   "source": [
    "from PIL import Image\n",
    "import numpy as np\n",
    "import os,cv2\n"
   ]
  },
  {
   "cell_type": "code",
   "execution_count": 9,
   "metadata": {},
   "outputs": [],
   "source": [
    "data=[]\n",
    "labels=[]\n",
    "zeros=os.listdir(\"E:/project/train/zero\")\n",
    "for zero in zeros:\n",
    "    imag=cv2.imread(\"E:/project/train/zero/\"+zero)\n",
    "    img_from_ar = Image.fromarray(imag, 'RGB')\n",
    "    resized_image = img_from_ar.resize((50, 50))\n",
    "    data.append(np.array(resized_image))\n",
    "    labels.append(0)\n",
    "ones=os.listdir(\"E:/project/train/one\")\n",
    "for one in ones:\n",
    "    imag=cv2.imread(\"E:/project/train/one/\"+one)\n",
    "    img_from_ar = Image.fromarray(imag, 'RGB')\n",
    "    resized_image = img_from_ar.resize((50, 50))\n",
    "    data.append(np.array(resized_image))\n",
    "    labels.append(1)\n",
    "twos=os.listdir(\"E:/project/train/two\")\n",
    "for two in twos:\n",
    "    imag=cv2.imread(\"E:/project/train/two/\"+two)\n",
    "    img_from_ar = Image.fromarray(imag, 'RGB')\n",
    "    resized_image = img_from_ar.resize((50, 50))\n",
    "    data.append(np.array(resized_image))\n",
    "    labels.append(2)\n",
    "    \n",
    "threes=os.listdir(\"E:/project/train/three\")\n",
    "for three in threes:\n",
    "    imag=cv2.imread(\"E:/project/train/three/\"+three)\n",
    "    img_from_ar = Image.fromarray(imag, 'RGB')\n",
    "    resized_image = img_from_ar.resize((50, 50))\n",
    "    data.append(np.array(resized_image))\n",
    "    labels.append(3)\n",
    "fours=os.listdir(\"E:/project/train/four\")\n",
    "for four in fours:\n",
    "    imag=cv2.imread(\"E:/project/train/four/\"+four)\n",
    "    img_from_ar = Image.fromarray(imag, 'RGB')\n",
    "    resized_image = img_from_ar.resize((50, 50))\n",
    "    data.append(np.array(resized_image))\n",
    "    labels.append(4)\n",
    "fives=os.listdir(\"E:/project/train/five\")\n",
    "for five in fives:\n",
    "    imag=cv2.imread(\"E:/project/train/five/\"+five)\n",
    "    img_from_ar = Image.fromarray(imag, 'RGB')\n",
    "    resized_image = img_from_ar.resize((50, 50))\n",
    "    data.append(np.array(resized_image))\n",
    "    labels.append(5)\n",
    "sixs=os.listdir(\"E:/project/train/six\")\n",
    "for six in sixs:\n",
    "    imag=cv2.imread(\"E:/project/train/six/\"+six)\n",
    "    img_from_ar = Image.fromarray(imag, 'RGB')\n",
    "    resized_image = img_from_ar.resize((50, 50))\n",
    "    data.append(np.array(resized_image))\n",
    "    labels.append(6)\n",
    "\n"
   ]
  },
  {
   "cell_type": "code",
   "execution_count": 10,
   "metadata": {},
   "outputs": [],
   "source": [
    "fingers=np.array(data)\n",
    "labels=np.array(labels)"
   ]
  },
  {
   "cell_type": "code",
   "execution_count": 11,
   "metadata": {},
   "outputs": [],
   "source": [
    "np.save(\"fingers\",fingers)\n",
    "np.save(\"labels\",labels)"
   ]
  },
  {
   "cell_type": "code",
   "execution_count": 12,
   "metadata": {},
   "outputs": [],
   "source": [
    "fingers=np.load(\"fingers.npy\")\n",
    "labels=np.load(\"labels.npy\")"
   ]
  },
  {
   "cell_type": "code",
   "execution_count": 13,
   "metadata": {},
   "outputs": [],
   "source": [
    "s=np.arange(fingers.shape[0])\n",
    "np.random.shuffle(s)\n",
    "fingers=fingers[s]\n",
    "labels=labels[s]"
   ]
  },
  {
   "cell_type": "code",
   "execution_count": 14,
   "metadata": {},
   "outputs": [],
   "source": [
    "num_classes=len(np.unique(labels))\n",
    "data_length=len(fingers)"
   ]
  },
  {
   "cell_type": "code",
   "execution_count": 15,
   "metadata": {},
   "outputs": [],
   "source": [
    "(x_train,x_test)=fingers[(int)(0.1*data_length):],fingers[:(int)(0.1*data_length)]\n",
    "x_train = x_train.astype('float32')/255\n",
    "x_test = x_test.astype('float32')/255\n",
    "train_length=len(x_train)\n",
    "test_length=len(x_test)"
   ]
  },
  {
   "cell_type": "code",
   "execution_count": 16,
   "metadata": {},
   "outputs": [],
   "source": [
    "(y_train,y_test)=labels[(int)(0.1*data_length):],labels[:(int)(0.1*data_length)]"
   ]
  },
  {
   "cell_type": "code",
   "execution_count": 17,
   "metadata": {},
   "outputs": [
    {
     "name": "stderr",
     "output_type": "stream",
     "text": [
      "Using TensorFlow backend.\n"
     ]
    }
   ],
   "source": [
    "import keras\n",
    "from keras.utils import np_utils\n",
    "#One hot encoding\n",
    "y_train=keras.utils.to_categorical(y_train,num_classes)\n",
    "y_test=keras.utils.to_categorical(y_test,num_classes)"
   ]
  },
  {
   "cell_type": "code",
   "execution_count": 18,
   "metadata": {},
   "outputs": [
    {
     "name": "stdout",
     "output_type": "stream",
     "text": [
      "Model: \"sequential_1\"\n",
      "_________________________________________________________________\n",
      "Layer (type)                 Output Shape              Param #   \n",
      "=================================================================\n",
      "conv2d_1 (Conv2D)            (None, 50, 50, 16)        208       \n",
      "_________________________________________________________________\n",
      "max_pooling2d_1 (MaxPooling2 (None, 25, 25, 16)        0         \n",
      "_________________________________________________________________\n",
      "conv2d_2 (Conv2D)            (None, 25, 25, 32)        2080      \n",
      "_________________________________________________________________\n",
      "max_pooling2d_2 (MaxPooling2 (None, 12, 12, 32)        0         \n",
      "_________________________________________________________________\n",
      "conv2d_3 (Conv2D)            (None, 12, 12, 64)        8256      \n",
      "_________________________________________________________________\n",
      "max_pooling2d_3 (MaxPooling2 (None, 6, 6, 64)          0         \n",
      "_________________________________________________________________\n",
      "dropout_1 (Dropout)          (None, 6, 6, 64)          0         \n",
      "_________________________________________________________________\n",
      "flatten_1 (Flatten)          (None, 2304)              0         \n",
      "_________________________________________________________________\n",
      "dense_1 (Dense)              (None, 500)               1152500   \n",
      "_________________________________________________________________\n",
      "dropout_2 (Dropout)          (None, 500)               0         \n",
      "_________________________________________________________________\n",
      "dense_2 (Dense)              (None, 7)                 3507      \n",
      "=================================================================\n",
      "Total params: 1,166,551\n",
      "Trainable params: 1,166,551\n",
      "Non-trainable params: 0\n",
      "_________________________________________________________________\n"
     ]
    }
   ],
   "source": [
    "# import sequential model and all the required layers\n",
    "from keras.models import Sequential\n",
    "from keras.layers import Conv2D,MaxPooling2D,Dense,Flatten,Dropout\n",
    "#make model\n",
    "model=Sequential()\n",
    "model.add(Conv2D(filters=16,kernel_size=2,padding=\"same\",activation=\"relu\",input_shape=(50,50,3)))\n",
    "model.add(MaxPooling2D(pool_size=2))\n",
    "model.add(Conv2D(filters=32,kernel_size=2,padding=\"same\",activation=\"relu\"))\n",
    "model.add(MaxPooling2D(pool_size=2))\n",
    "model.add(Conv2D(filters=64,kernel_size=2,padding=\"same\",activation=\"relu\"))\n",
    "model.add(MaxPooling2D(pool_size=2))\n",
    "model.add(Dropout(0.2))\n",
    "model.add(Flatten())\n",
    "model.add(Dense(500,activation=\"relu\"))\n",
    "model.add(Dropout(0.2))\n",
    "model.add(Dense(7,activation=\"softmax\"))\n",
    "model.summary()"
   ]
  },
  {
   "cell_type": "code",
   "execution_count": 19,
   "metadata": {},
   "outputs": [],
   "source": [
    "#compile the model\n",
    "model.compile(loss='categorical_crossentropy', optimizer='adam', \n",
    "                  metrics=['accuracy'])"
   ]
  },
  {
   "cell_type": "code",
   "execution_count": 24,
   "metadata": {},
   "outputs": [
    {
     "name": "stdout",
     "output_type": "stream",
     "text": [
      "Epoch 1/100\n",
      "287/287 [==============================] - 2s 7ms/step - loss: 0.1005 - accuracy: 0.9721\n",
      "Epoch 2/100\n",
      "287/287 [==============================] - 2s 6ms/step - loss: 0.1201 - accuracy: 0.9721\n",
      "Epoch 3/100\n",
      "287/287 [==============================] - 2s 6ms/step - loss: 0.0802 - accuracy: 0.9791\n",
      "Epoch 4/100\n",
      "287/287 [==============================] - 2s 6ms/step - loss: 0.0853 - accuracy: 0.9791\n",
      "Epoch 5/100\n",
      "287/287 [==============================] - 2s 6ms/step - loss: 0.0902 - accuracy: 0.9756\n",
      "Epoch 6/100\n",
      "287/287 [==============================] - 2s 6ms/step - loss: 0.1372 - accuracy: 0.9477\n",
      "Epoch 7/100\n",
      "287/287 [==============================] - 2s 6ms/step - loss: 0.1352 - accuracy: 0.9652\n",
      "Epoch 8/100\n",
      "287/287 [==============================] - 2s 6ms/step - loss: 0.0874 - accuracy: 0.9826\n",
      "Epoch 9/100\n",
      "287/287 [==============================] - 2s 6ms/step - loss: 0.0844 - accuracy: 0.9826\n",
      "Epoch 10/100\n",
      "287/287 [==============================] - 2s 7ms/step - loss: 0.0742 - accuracy: 0.9791\n",
      "Epoch 11/100\n",
      "287/287 [==============================] - 2s 7ms/step - loss: 0.0593 - accuracy: 0.9930\n",
      "Epoch 12/100\n",
      "287/287 [==============================] - 2s 6ms/step - loss: 0.0552 - accuracy: 0.9930\n",
      "Epoch 13/100\n",
      "287/287 [==============================] - 2s 6ms/step - loss: 0.0471 - accuracy: 0.9930\n",
      "Epoch 14/100\n",
      "287/287 [==============================] - 2s 6ms/step - loss: 0.0647 - accuracy: 0.9895\n",
      "Epoch 15/100\n",
      "287/287 [==============================] - 2s 6ms/step - loss: 0.0510 - accuracy: 0.9895\n",
      "Epoch 16/100\n",
      "287/287 [==============================] - 2s 6ms/step - loss: 0.0411 - accuracy: 0.9895\n",
      "Epoch 17/100\n",
      "287/287 [==============================] - 2s 6ms/step - loss: 0.0360 - accuracy: 0.9965\n",
      "Epoch 18/100\n",
      "287/287 [==============================] - 2s 8ms/step - loss: 0.0352 - accuracy: 0.9965\n",
      "Epoch 19/100\n",
      "287/287 [==============================] - 2s 7ms/step - loss: 0.0375 - accuracy: 0.9930\n",
      "Epoch 20/100\n",
      "287/287 [==============================] - 2s 7ms/step - loss: 0.0362 - accuracy: 0.9930\n",
      "Epoch 21/100\n",
      "287/287 [==============================] - 2s 6ms/step - loss: 0.0446 - accuracy: 0.9861\n",
      "Epoch 22/100\n",
      "287/287 [==============================] - 2s 6ms/step - loss: 0.0379 - accuracy: 0.9930\n",
      "Epoch 23/100\n",
      "287/287 [==============================] - 2s 6ms/step - loss: 0.0352 - accuracy: 0.9930\n",
      "Epoch 24/100\n",
      "287/287 [==============================] - 2s 6ms/step - loss: 0.0271 - accuracy: 1.0000\n",
      "Epoch 25/100\n",
      "287/287 [==============================] - 2s 6ms/step - loss: 0.0331 - accuracy: 0.9965\n",
      "Epoch 26/100\n",
      "287/287 [==============================] - 2s 7ms/step - loss: 0.0215 - accuracy: 1.0000\n",
      "Epoch 27/100\n",
      "287/287 [==============================] - 2s 7ms/step - loss: 0.0226 - accuracy: 1.0000\n",
      "Epoch 28/100\n",
      "287/287 [==============================] - 2s 7ms/step - loss: 0.0270 - accuracy: 0.9965\n",
      "Epoch 29/100\n",
      "287/287 [==============================] - 2s 6ms/step - loss: 0.0256 - accuracy: 0.9930\n",
      "Epoch 30/100\n",
      "287/287 [==============================] - 2s 7ms/step - loss: 0.0193 - accuracy: 1.0000\n",
      "Epoch 31/100\n",
      "287/287 [==============================] - 2s 7ms/step - loss: 0.0185 - accuracy: 1.0000\n",
      "Epoch 32/100\n",
      "287/287 [==============================] - 2s 6ms/step - loss: 0.0156 - accuracy: 0.9965\n",
      "Epoch 33/100\n",
      "287/287 [==============================] - 2s 6ms/step - loss: 0.0207 - accuracy: 0.9965\n",
      "Epoch 34/100\n",
      "287/287 [==============================] - 2s 6ms/step - loss: 0.0260 - accuracy: 0.9965\n",
      "Epoch 35/100\n",
      "287/287 [==============================] - 2s 7ms/step - loss: 0.0235 - accuracy: 1.0000\n",
      "Epoch 36/100\n",
      "287/287 [==============================] - 2s 7ms/step - loss: 0.0122 - accuracy: 1.0000\n",
      "Epoch 37/100\n",
      "287/287 [==============================] - 2s 7ms/step - loss: 0.0113 - accuracy: 1.0000\n",
      "Epoch 38/100\n",
      "287/287 [==============================] - 2s 6ms/step - loss: 0.0277 - accuracy: 0.9930\n",
      "Epoch 39/100\n",
      "287/287 [==============================] - 2s 6ms/step - loss: 0.0168 - accuracy: 1.0000\n",
      "Epoch 40/100\n",
      "287/287 [==============================] - 2s 6ms/step - loss: 0.0193 - accuracy: 0.9930\n",
      "Epoch 41/100\n",
      "287/287 [==============================] - 2s 6ms/step - loss: 0.0157 - accuracy: 1.0000\n",
      "Epoch 42/100\n",
      "287/287 [==============================] - 2s 7ms/step - loss: 0.0142 - accuracy: 1.0000\n",
      "Epoch 43/100\n",
      "287/287 [==============================] - 2s 7ms/step - loss: 0.0147 - accuracy: 0.9965\n",
      "Epoch 44/100\n",
      "287/287 [==============================] - 4s 13ms/step - loss: 0.0210 - accuracy: 1.0000\n",
      "Epoch 45/100\n",
      "287/287 [==============================] - 2s 7ms/step - loss: 0.0178 - accuracy: 1.0000\n",
      "Epoch 46/100\n",
      "287/287 [==============================] - 2s 6ms/step - loss: 0.0165 - accuracy: 1.0000\n",
      "Epoch 47/100\n",
      "287/287 [==============================] - 2s 6ms/step - loss: 0.0166 - accuracy: 0.9965\n",
      "Epoch 48/100\n",
      "287/287 [==============================] - 2s 6ms/step - loss: 0.0157 - accuracy: 0.9965\n",
      "Epoch 49/100\n",
      "287/287 [==============================] - 2s 7ms/step - loss: 0.0141 - accuracy: 0.9965\n",
      "Epoch 50/100\n",
      "287/287 [==============================] - 2s 7ms/step - loss: 0.0132 - accuracy: 1.0000\n",
      "Epoch 51/100\n",
      "287/287 [==============================] - 2s 8ms/step - loss: 0.0102 - accuracy: 1.0000\n",
      "Epoch 52/100\n",
      "287/287 [==============================] - 3s 11ms/step - loss: 0.0155 - accuracy: 0.9965\n",
      "Epoch 53/100\n",
      "287/287 [==============================] - 2s 6ms/step - loss: 0.0082 - accuracy: 1.0000\n",
      "Epoch 54/100\n",
      "287/287 [==============================] - 2s 6ms/step - loss: 0.0077 - accuracy: 1.0000\n",
      "Epoch 55/100\n",
      "287/287 [==============================] - 2s 6ms/step - loss: 0.0150 - accuracy: 0.9965\n",
      "Epoch 56/100\n",
      "287/287 [==============================] - 2s 6ms/step - loss: 0.0106 - accuracy: 1.0000\n",
      "Epoch 57/100\n",
      "287/287 [==============================] - 2s 6ms/step - loss: 0.0148 - accuracy: 0.9965\n",
      "Epoch 58/100\n",
      "287/287 [==============================] - 2s 7ms/step - loss: 0.0154 - accuracy: 0.9965\n",
      "Epoch 59/100\n",
      "287/287 [==============================] - 2s 8ms/step - loss: 0.0372 - accuracy: 0.9895\n",
      "Epoch 60/100\n",
      "287/287 [==============================] - 3s 11ms/step - loss: 0.0626 - accuracy: 0.9791\n",
      "Epoch 61/100\n",
      "287/287 [==============================] - 2s 6ms/step - loss: 0.0699 - accuracy: 0.9826\n",
      "Epoch 62/100\n",
      "287/287 [==============================] - 2s 6ms/step - loss: 0.0700 - accuracy: 0.9826\n",
      "Epoch 63/100\n",
      "287/287 [==============================] - 2s 8ms/step - loss: 0.0582 - accuracy: 0.9756\n",
      "Epoch 64/100\n",
      "287/287 [==============================] - 2s 7ms/step - loss: 0.0290 - accuracy: 0.9930\n",
      "Epoch 65/100\n",
      "287/287 [==============================] - 2s 7ms/step - loss: 0.0369 - accuracy: 0.9965\n",
      "Epoch 66/100\n",
      "287/287 [==============================] - 3s 12ms/step - loss: 0.0484 - accuracy: 0.9895\n",
      "Epoch 67/100\n",
      "287/287 [==============================] - 2s 7ms/step - loss: 0.0390 - accuracy: 0.9895\n",
      "Epoch 68/100\n",
      "287/287 [==============================] - 2s 6ms/step - loss: 0.0366 - accuracy: 0.9930\n",
      "Epoch 69/100\n",
      "287/287 [==============================] - 2s 6ms/step - loss: 0.0307 - accuracy: 0.9930\n",
      "Epoch 70/100\n",
      "287/287 [==============================] - 2s 7ms/step - loss: 0.0201 - accuracy: 0.9930\n",
      "Epoch 71/100\n",
      "287/287 [==============================] - 2s 6ms/step - loss: 0.0152 - accuracy: 1.0000\n",
      "Epoch 72/100\n",
      "287/287 [==============================] - 3s 12ms/step - loss: 0.0112 - accuracy: 1.0000\n",
      "Epoch 73/100\n",
      "287/287 [==============================] - 2s 7ms/step - loss: 0.0086 - accuracy: 1.0000\n",
      "Epoch 74/100\n",
      "287/287 [==============================] - 2s 7ms/step - loss: 0.0173 - accuracy: 0.9965\n",
      "Epoch 75/100\n",
      "287/287 [==============================] - 2s 6ms/step - loss: 0.0059 - accuracy: 1.0000\n",
      "Epoch 76/100\n",
      "287/287 [==============================] - 2s 7ms/step - loss: 0.0058 - accuracy: 1.0000\n",
      "Epoch 77/100\n",
      "287/287 [==============================] - 3s 11ms/step - loss: 0.0067 - accuracy: 1.0000\n",
      "Epoch 78/100\n",
      "287/287 [==============================] - 2s 9ms/step - loss: 0.0068 - accuracy: 0.9965\n",
      "Epoch 79/100\n",
      "287/287 [==============================] - 2s 7ms/step - loss: 0.0056 - accuracy: 1.0000\n",
      "Epoch 80/100\n",
      "287/287 [==============================] - 2s 7ms/step - loss: 0.0106 - accuracy: 0.9965\n",
      "Epoch 81/100\n",
      "287/287 [==============================] - 2s 8ms/step - loss: 0.0088 - accuracy: 0.9965\n",
      "Epoch 82/100\n",
      "287/287 [==============================] - 2s 7ms/step - loss: 0.0116 - accuracy: 0.9965\n",
      "Epoch 83/100\n",
      "287/287 [==============================] - 3s 10ms/step - loss: 0.0151 - accuracy: 0.9965\n",
      "Epoch 84/100\n",
      "287/287 [==============================] - 2s 8ms/step - loss: 0.0090 - accuracy: 0.9965\n",
      "Epoch 85/100\n",
      "287/287 [==============================] - 2s 6ms/step - loss: 0.0143 - accuracy: 0.9965\n",
      "Epoch 86/100\n",
      "287/287 [==============================] - 2s 6ms/step - loss: 0.0249 - accuracy: 0.9930\n",
      "Epoch 87/100\n",
      "287/287 [==============================] - 2s 7ms/step - loss: 0.0136 - accuracy: 1.0000\n",
      "Epoch 88/100\n",
      "287/287 [==============================] - 2s 7ms/step - loss: 0.0100 - accuracy: 0.9965\n",
      "Epoch 89/100\n",
      "287/287 [==============================] - 3s 12ms/step - loss: 0.0108 - accuracy: 1.0000\n",
      "Epoch 90/100\n",
      "287/287 [==============================] - 2s 7ms/step - loss: 0.0072 - accuracy: 1.0000\n",
      "Epoch 91/100\n",
      "287/287 [==============================] - 2s 6ms/step - loss: 0.0036 - accuracy: 1.0000\n",
      "Epoch 92/100\n",
      "287/287 [==============================] - 2s 6ms/step - loss: 0.0061 - accuracy: 1.0000\n",
      "Epoch 93/100\n",
      "287/287 [==============================] - 2s 7ms/step - loss: 0.0041 - accuracy: 1.0000\n",
      "Epoch 94/100\n",
      "287/287 [==============================] - 3s 10ms/step - loss: 0.0072 - accuracy: 0.9965\n",
      "Epoch 95/100\n",
      "287/287 [==============================] - 3s 9ms/step - loss: 0.0027 - accuracy: 1.0000\n",
      "Epoch 96/100\n",
      "287/287 [==============================] - 2s 7ms/step - loss: 0.0039 - accuracy: 1.0000\n",
      "Epoch 97/100\n",
      "287/287 [==============================] - 2s 7ms/step - loss: 0.0040 - accuracy: 1.0000\n",
      "Epoch 98/100\n",
      "287/287 [==============================] - 2s 7ms/step - loss: 0.0113 - accuracy: 0.9965\n",
      "Epoch 99/100\n",
      "287/287 [==============================] - 2s 6ms/step - loss: 0.0079 - accuracy: 1.0000\n",
      "Epoch 100/100\n",
      "287/287 [==============================] - 2s 8ms/step - loss: 0.0045 - accuracy: 1.0000\n"
     ]
    },
    {
     "data": {
      "text/plain": [
       "<keras.callbacks.callbacks.History at 0x2af0fd32588>"
      ]
     },
     "execution_count": 24,
     "metadata": {},
     "output_type": "execute_result"
    }
   ],
   "source": [
    "model.fit(x_train,y_train,batch_size=50\n",
    "          ,epochs=100,verbose=1)"
   ]
  },
  {
   "cell_type": "code",
   "execution_count": 25,
   "metadata": {},
   "outputs": [
    {
     "name": "stdout",
     "output_type": "stream",
     "text": [
      "31/31 [==============================] - 0s 2ms/step\n",
      "\n",
      " Test accuracy: 0.7419354915618896\n"
     ]
    }
   ],
   "source": [
    "score = model.evaluate(x_test, y_test, verbose=1)\n",
    "print('\\n', 'Test accuracy:', score[1])"
   ]
  },
  {
   "cell_type": "code",
   "execution_count": 26,
   "metadata": {},
   "outputs": [
    {
     "name": "stdout",
     "output_type": "stream",
     "text": [
      "Saved model to disk\n"
     ]
    }
   ],
   "source": [
    "from keras.models import model_from_json\n",
    "# serialize model to JSON\n",
    "model_json = model.to_json()\n",
    "with open(\"model.json\", \"w\") as json_file:\n",
    "    json_file.write(model_json)\n",
    "# serialize weights to HDF5\n",
    "model.save_weights(\"E:/project/model.h5\")\n",
    "print(\"Saved model to disk\")"
   ]
  },
  {
   "cell_type": "code",
   "execution_count": null,
   "metadata": {},
   "outputs": [],
   "source": [
    " "
   ]
  }
 ],
 "metadata": {
  "kernelspec": {
   "display_name": "Python 3",
   "language": "python",
   "name": "python3"
  },
  "language_info": {
   "codemirror_mode": {
    "name": "ipython",
    "version": 3
   },
   "file_extension": ".py",
   "mimetype": "text/x-python",
   "name": "python",
   "nbconvert_exporter": "python",
   "pygments_lexer": "ipython3",
   "version": "3.7.7"
  }
 },
 "nbformat": 4,
 "nbformat_minor": 4
}
