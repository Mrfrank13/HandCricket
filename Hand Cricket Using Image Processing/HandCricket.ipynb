{
 "cells": [
  {
   "cell_type": "code",
   "execution_count": 1,
   "metadata": {
    "jupyter": {
     "outputs_hidden": false
    }
   },
   "outputs": [
    {
     "name": "stdout",
     "output_type": "stream",
     "text": [
      "importing Jupyter notebook from Predicting_Fingers.ipynb\n"
     ]
    },
    {
     "name": "stderr",
     "output_type": "stream",
     "text": [
      "Using TensorFlow backend.\n"
     ]
    },
    {
     "name": "stdout",
     "output_type": "stream",
     "text": [
      "1/1 [==============================] - 2s 2s/step\n",
      "4\n"
     ]
    }
   ],
   "source": [
    "import import_ipynb\n",
    "import Predicting_Fingers\n",
    "\n",
    "#finger=Predicting_Fingers.predict_finger(\"E:/project/1.jpg\")\n"
   ]
  },
  {
   "cell_type": "code",
   "execution_count": 2,
   "metadata": {},
   "outputs": [],
   "source": [
    "def UserImage():\n",
    "    while(1):\n",
    "        try:\n",
    "            imageUrl=input(\"Enter The IMAGE URL you want to put\")\n",
    "            finger=Predicting_Fingers.predict_finger(imageUrl)\n",
    "            return finger\n",
    "        except:\n",
    "            print(\"Enter Proper URL\")"
   ]
  },
  {
   "cell_type": "code",
   "execution_count": 3,
   "metadata": {
    "jupyter": {
     "outputs_hidden": false
    }
   },
   "outputs": [],
   "source": [
    "\n",
    "import random\n",
    "def toss():\n",
    "    while(1):\n",
    "        TossChoice=input(\"ODD or EVEN?\")\n",
    "        TossChoice=TossChoice.upper()\n",
    "        if(TossChoice=='ODD' or TossChoice=='EVEN'):\n",
    "            break\n",
    "        print('Enter Either \\'ODD\\' or \\'EVEN\\'')\n",
    "    UserNumber=UserImage()\n",
    "    choice=[0,1,2,3,4,5,6]\n",
    "    ComputerNumber=random.choice(choice)\n",
    "    print('The Computer Puts',ComputerNumber)\n",
    "    if((UserNumber+ComputerNumber)%2==1):\n",
    "        TossSum='ODD'\n",
    "    else:\n",
    "        TossSum='EVEN'\n",
    "    print('The Sum is',TossSum)\n",
    "    if(TossSum==TossChoice):\n",
    "        print('YOU WIN THE TOSS')\n",
    "        return 'TOSS_WIN'\n",
    "    else:\n",
    "        print('YOU LOSE THE TOSS')\n",
    "        return 'TOSS_LOSE'"
   ]
  },
  {
   "cell_type": "code",
   "execution_count": null,
   "metadata": {
    "jupyter": {
     "outputs_hidden": false
    }
   },
   "outputs": [],
   "source": []
  },
  {
   "cell_type": "code",
   "execution_count": 5,
   "metadata": {},
   "outputs": [],
   "source": [
    "def Bat():\n",
    "    print('YOU ARE BATTING')\n",
    "    PlayerScore=0\n",
    "    while(1):\n",
    "        PlayerNumber=UserImage()\n",
    "        numbers=[0,1,2,3,4,5,6]\n",
    "        ComputerNumber=random.choice(numbers)\n",
    "        print('The Computer puts',ComputerNumber)\n",
    "        if(PlayerNumber==ComputerNumber):\n",
    "            print(\"OUT!!!\")\n",
    "            print('Your Score is',PlayerScore)\n",
    "            return PlayerScore\n",
    "        elif(PlayerNumber=='0'):\n",
    "            PlayerScore+=ComputerNumber\n",
    "            print('Your Score is',PlayerScore)\n",
    "        else:\n",
    "            PlayerScore+=PlayerNumber\n",
    "            print('Your Score is',PlayerScore)"
   ]
  },
  {
   "cell_type": "code",
   "execution_count": 6,
   "metadata": {},
   "outputs": [],
   "source": [
    "def Ball():\n",
    "    print(\"THE COMPUTER IS BATTING\")\n",
    "    ComputerScore=0\n",
    "    while(1):\n",
    "        PlayerNumber=UserImage()\n",
    "        numbers=[0,1,2,3,4,5,6]\n",
    "        ComputerNumber=random.choice(numbers)\n",
    "        print('The Computer puts',ComputerNumber)\n",
    "        if(PlayerNumber==ComputerNumber):\n",
    "            print(\"OUT!!!\")\n",
    "            print('The Computer Score is',ComputerScore)\n",
    "            return ComputerScore\n",
    "        elif(ComputerNumber==0):\n",
    "            ComputerScore+=PlayerNumber\n",
    "            print('The Computer Score is',ComputerScore)\n",
    "        else:\n",
    "            ComputerScore+=ComputerNumber\n",
    "            print('The Computer Score is',ComputerScore)\n",
    "    "
   ]
  },
  {
   "cell_type": "code",
   "execution_count": null,
   "metadata": {},
   "outputs": [
    {
     "name": "stdin",
     "output_type": "stream",
     "text": [
      "ODD or EVEN? ODD\n",
      "Enter The IMAGE URL you want to put odd\n"
     ]
    },
    {
     "name": "stdout",
     "output_type": "stream",
     "text": [
      "Enter Proper URL\n"
     ]
    },
    {
     "name": "stdin",
     "output_type": "stream",
     "text": [
      "Enter The IMAGE URL you want to put ‪E:/project/1.jpg\n"
     ]
    },
    {
     "name": "stdout",
     "output_type": "stream",
     "text": [
      "Enter Proper URL\n"
     ]
    },
    {
     "name": "stdin",
     "output_type": "stream",
     "text": [
      "Enter The IMAGE URL you want to put ‪E:/project/1.jpg\n"
     ]
    },
    {
     "name": "stdout",
     "output_type": "stream",
     "text": [
      "Enter Proper URL\n"
     ]
    },
    {
     "name": "stdin",
     "output_type": "stream",
     "text": [
      "Enter The IMAGE URL you want to put E:/project/five.jpg\n"
     ]
    },
    {
     "name": "stdout",
     "output_type": "stream",
     "text": [
      "1/1 [==============================] - 0s 7ms/step\n",
      "The Computer Puts 6\n",
      "The Sum is EVEN\n",
      "YOU LOSE THE TOSS\n",
      "THE COMPUTER CHOOSE TO BALL\n",
      "YOU ARE BATTING\n"
     ]
    },
    {
     "name": "stdin",
     "output_type": "stream",
     "text": [
      "Enter The IMAGE URL you want to put E:/project/five.jpg\n"
     ]
    },
    {
     "name": "stdout",
     "output_type": "stream",
     "text": [
      "1/1 [==============================] - 0s 5ms/step\n",
      "The Computer puts 3\n",
      "Your Score is 4\n"
     ]
    }
   ],
   "source": [
    "toss=toss()\n",
    "if(toss=='TOSS_WIN'):\n",
    "    while(1):\n",
    "        UserChoice=input('Bat or Ball?')\n",
    "        UserChoice=UserChoice.upper()\n",
    "        if(UserChoice=='BAT' or UserChoice=='BALL'):\n",
    "            print('YOU CHOOSE TO',UserChoice)\n",
    "            break\n",
    "        print('Enter Either \\'BAT\\' or \\'BALL\\'')\n",
    "else:\n",
    "    ChoiceInput=['BAT','BALL']\n",
    "    ComputerChoice=random.choice(ChoiceInput)\n",
    "    if(ComputerChoice=='BAT'):\n",
    "        UserChoice='BALL'\n",
    "    else:\n",
    "        UserChoice='BAT'\n",
    "    print('THE COMPUTER CHOOSE TO',ComputerChoice)\n",
    "if(UserChoice=='BAT'):\n",
    "    PlayerScore=Bat()\n",
    "    ComputerScore=Ball()\n",
    "else:\n",
    "    ComputerScore=Ball()\n",
    "    PlayerScore=Bat()\n",
    "    print('YOUR SCORE IS',PlayerScore,'\\nTHE COMPUTER SCORE IS',ComputerScore)\n",
    "if(ComputerScore>PlayerScore):\n",
    "    margin=ComputerScore-PlayerScore\n",
    "    print('The Computer Won By',margin,'RUNS')\n",
    "elif(ComputerScore<PlayerScore):\n",
    "    margin=PlayerScore-ComputerScore\n",
    "    print('YOU WON BY',margin,'RUNS')\n",
    "else:\n",
    "    print('ITS A TIE!!!!')"
   ]
  },
  {
   "cell_type": "code",
   "execution_count": null,
   "metadata": {},
   "outputs": [],
   "source": []
  },
  {
   "cell_type": "code",
   "execution_count": null,
   "metadata": {},
   "outputs": [],
   "source": []
  }
 ],
 "metadata": {
  "kernelspec": {
   "display_name": "Python 3",
   "language": "python",
   "name": "python3"
  },
  "language_info": {
   "codemirror_mode": {
    "name": "ipython",
    "version": 3
   },
   "file_extension": ".py",
   "mimetype": "text/x-python",
   "name": "python",
   "nbconvert_exporter": "python",
   "pygments_lexer": "ipython3",
   "version": "3.7.7"
  }
 },
 "nbformat": 4,
 "nbformat_minor": 4
}
