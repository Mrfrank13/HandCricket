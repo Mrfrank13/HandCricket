{
 "cells": [
  {
   "cell_type": "code",
   "execution_count": 1,
   "metadata": {},
   "outputs": [
    {
     "name": "stderr",
     "output_type": "stream",
     "text": [
      "Using TensorFlow backend.\n"
     ]
    }
   ],
   "source": [
    "from PIL import Image\n",
    "from keras.models import Sequential\n",
    "from keras.layers import Dense\n",
    "from keras.models import model_from_json\n",
    "import cv2\n",
    "import numpy as np\n",
    "import os\n",
    "json_file = open('model.json', 'r')\n",
    "loaded_model_json = json_file.read()\n",
    "json_file.close()\n",
    "loaded_model = model_from_json(loaded_model_json)\n",
    "# load weights into new model\n",
    "loaded_model.load_weights(\"E:/project/model.h5\")"
   ]
  },
  {
   "cell_type": "code",
   "execution_count": 2,
   "metadata": {},
   "outputs": [],
   "source": [
    "def convert_to_array(img):\n",
    "    im = cv2.imread(img)\n",
    "    img = Image.fromarray(im, 'RGB')\n",
    "    image = img.resize((50, 50))\n",
    "    return np.array(image)\n",
    "def get_finger_name(label):\n",
    "    if label==0:\n",
    "        return 0\n",
    "    if label==1:\n",
    "        return 1\n",
    "    if label==2:\n",
    "        return 2\n",
    "    if label==3:\n",
    "        return 3\n",
    "    if label==4:\n",
    "        return 4\n",
    "    if label==4:\n",
    "        return 5\n",
    "    if label==6:\n",
    "        return 6\n",
    "    \n",
    "def predict_finger(file):\n",
    "    #print(\"Predicting .................................\")\n",
    "    ar=convert_to_array(file)\n",
    "    ar=ar/255\n",
    "    label=1\n",
    "    a=[]\n",
    "    a.append(ar)\n",
    "    a=np.array(a)\n",
    "    score=loaded_model.predict(a,verbose=1)\n",
    "    #print(score)\n",
    "    label_index=np.argmax(score)\n",
    "    #print(label_index)\n",
    "    acc=np.max(score)\n",
    "    finger=get_finger_name(label_index)\n",
    "    return finger\n",
    "    #print(finger)\n",
    "    #print(\"The predicted Finger is a \"+finger+\" with accuracy =    \"+str(acc))"
   ]
  },
  {
   "cell_type": "code",
   "execution_count": 3,
   "metadata": {},
   "outputs": [
    {
     "name": "stdout",
     "output_type": "stream",
     "text": [
      "1/1 [==============================] - 2s 2s/step\n",
      "4\n"
     ]
    }
   ],
   "source": [
    "finger=predict_finger(\"E:/project/five.jpg\")\n",
    "print (finger)"
   ]
  },
  {
   "cell_type": "code",
   "execution_count": null,
   "metadata": {},
   "outputs": [],
   "source": []
  }
 ],
 "metadata": {
  "kernelspec": {
   "display_name": "Python 3",
   "language": "python",
   "name": "python3"
  },
  "language_info": {
   "codemirror_mode": {
    "name": "ipython",
    "version": 3
   },
   "file_extension": ".py",
   "mimetype": "text/x-python",
   "name": "python",
   "nbconvert_exporter": "python",
   "pygments_lexer": "ipython3",
   "version": "3.7.7"
  }
 },
 "nbformat": 4,
 "nbformat_minor": 4
}
